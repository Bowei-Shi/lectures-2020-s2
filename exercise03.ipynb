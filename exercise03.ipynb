{
 "cells": [
  {
   "cell_type": "markdown",
   "metadata": {},
   "source": [
    "# Weekly exercise 3: Optimal choice in the bungle good market\n",
    "\n",
    "In this exercise I ask you to apply the machinery of bungled goods\n",
    "we have created in video 08 for answering some economic questions.\n",
    "Make sure you use the code written in that video which is stored\n",
    "in the notebook *08_bundles_ex2*."
   ]
  },
  {
   "cell_type": "code",
   "execution_count": null,
   "metadata": {
    "hide-output": false
   },
   "outputs": [],
   "source": [
    "# copy the working code of the bungle_good class into this cell and run it"
   ]
  },
  {
   "cell_type": "code",
   "execution_count": 7,
   "metadata": {
    "hide-output": false
   },
   "outputs": [],
   "source": [
    "class bundle_good():\n",
    "    '''Class of bundled goods with well defined arithmetics'''\n",
    "\n",
    "    items = ('Opera A', 'Opera B', \\\n",
    "             'Ballet A', 'Ballet B', \\\n",
    "             'Symphonic orchestra concert', \\\n",
    "             'Rock opera', \\\n",
    "             'Operetta') # 7 different goods\n",
    "\n",
    "    def __init__(self,quantities=[0,],price=0.0):\n",
    "        '''Creates the bundle good object\n",
    "        '''\n",
    "        n = len(bundle_good.items) # number of available items\n",
    "        if len(quantities)<n:\n",
    "            # add zeros for the unspecified items\n",
    "            quantities += [0,]*(n-len(quantities))\n",
    "        elif len(quantities)>n:\n",
    "            # ignore extra numbers\n",
    "            quantities = quantities[0:n]\n",
    "        # create public attributes\n",
    "        # ensure the quantities in the object are integer\n",
    "        self.quantities=[int(x) for x in quantities]\n",
    "        self.price=price\n",
    "\n",
    "    def __repr__(self):\n",
    "        '''String representation of the object\n",
    "        '''\n",
    "        return 'Bundle object %r with price %1.2f' % (self.quantities,self.price)\n",
    "\n",
    "    def __add__(self,other):\n",
    "        '''Addition for bundles: add items and sum prices, or increase price\n",
    "        '''\n",
    "        if type(other) is bundle_good:\n",
    "            # add the quantities using list comprehension with one-to-one matching (zip)\n",
    "            q1 = [x+y for x,y in zip(self.quantities, other.quantities)]\n",
    "            # sum of the prices\n",
    "            p1 = self.price + other.price\n",
    "            # return new bundle\n",
    "            return bundle_good(quantities=q1,price=p1)\n",
    "\n",
    "        elif type(other) in (float,int):\n",
    "            # increase the price\n",
    "            p1 = self.price + other\n",
    "            # return new bundle\n",
    "            return bundle_good(quantities=self.quantities,price=p1)\n",
    "\n",
    "        else:\n",
    "            raise TypeError('Can only add bundle to bundle, or number to bundle price')\n",
    "\n",
    "    def __sub__(self,other):\n",
    "        '''Subtraction for bundles: subtract items and prices, or decrease price\n",
    "        '''\n",
    "        if type(other) is bundle_good:\n",
    "            # subtract the quantities using list comprehension with one-to-one matching (zip)\n",
    "            q1 = [x-y for x,y in zip(self.quantities, other.quantities)]\n",
    "            # sum of the prices\n",
    "            p1 = self.price - other.price\n",
    "            # return new bundle\n",
    "            return bundle_good(quantities=q1,price=p1)\n",
    "        elif type(other) in (float,int):\n",
    "            # decrease the price\n",
    "            p1 = self.price - other\n",
    "            # return new bundle\n",
    "            return bundle_good(quantities=self.quantities,price=p1)\n",
    "        else:\n",
    "            raise TypeError('Can only subtract bundle from bundle, or number from bundle price')\n",
    "\n",
    "    def __mul__(self,num):\n",
    "        '''Multiplication for bundles: repetition of the original bundle\n",
    "        '''\n",
    "        if type(num) is int:\n",
    "            # multiply quantities using list comprehension\n",
    "            q1 = [x * num for x in self.quantities]\n",
    "            # multiply the price\n",
    "            p1 = self.price * num\n",
    "            # return new bundle\n",
    "            return bundle_good(price=p1,quantities=q1)\n",
    "        else:\n",
    "            raise TypeError('Can only multiply bundle by an integer')\n",
    "\n",
    "    def __truediv__(self,num):\n",
    "        '''Division for bundles: fraction of the original bundle, only if quantities are devisable\n",
    "        '''\n",
    "        if type(num) is int:\n",
    "            # divide quantities and check for divisibility\n",
    "            q1 = [q//num for q in self.quantities]\n",
    "            if not all(q%num==0 for q in self.quantities):\n",
    "                # if can not be devided without a remainder, raise ValueError\n",
    "                raise ValueError('Can not divide bundle into fractional parts')\n",
    "            # divide the price\n",
    "            p1=self.price / num\n",
    "            # return new bundle\n",
    "            return bundle_good(price=p1,quantities=q1)\n",
    "        else:\n",
    "            raise TypeError('Can only divide bundle by an integer')"
   ]
  },
  {
   "cell_type": "markdown",
   "metadata": {},
   "source": [
    "## Optimal choice of bundle goods\n",
    "\n",
    "Consider a consumer with a utility function over the individual goods\n",
    "given by\n",
    "\n",
    "$$\n",
    "u(x_1,\\dots,x_7)=\\log(x_1+1)+\\big((x_2)^{0.4}+0.5(x_3)^{0.4}\\big)^{2.5}-0.5\\log(x_4+1)-0.2(x_5*x_6)^{0.2}+2\\log(x_7+1).\n",
    "$$\n",
    "\n",
    "Find the optimal set of bundle goods to be consumed by comparing\n",
    "different combinations of the available bundles shown below.\n",
    "\n",
    "There are only three bundle goods on the market, so we\n",
    "can afford a brute force optimization algorithm implemented as a\n",
    "triple nested loop, with each level corresponding to one bundle good\n",
    "and looping from 0 to some reasonable number (think which number\n",
    "would be reasonable).\n",
    "\n",
    "Compute the optimal choice for budgets of 100, 200 and 300 price units.\n",
    "\n",
    "Use the starter code below.  Each occurrence of **@@@** has to be replaced with appropriate code."
   ]
  },
  {
   "cell_type": "code",
   "execution_count": 3,
   "metadata": {
    "hide-output": false
   },
   "outputs": [
    {
     "ename": "SyntaxError",
     "evalue": "invalid syntax (<ipython-input-3-214781525a89>, line 12)",
     "output_type": "error",
     "traceback": [
      "\u001b[0;36m  File \u001b[0;32m\"<ipython-input-3-214781525a89>\"\u001b[0;36m, line \u001b[0;32m12\u001b[0m\n\u001b[0;31m    return @@@\u001b[0m\n\u001b[0m           ^\u001b[0m\n\u001b[0;31mSyntaxError\u001b[0m\u001b[0;31m:\u001b[0m invalid syntax\n"
     ]
    }
   ],
   "source": [
    "# Available bundle goods\n",
    "a = bundle_good([2,0,1,3,1,1,0],10.50)\n",
    "b = bundle_good([0,5,0,4,2,2,2],15.36)\n",
    "c = bundle_good([1,0,1,2,0,5,4],12.72)\n",
    "market = [a,b,c]\n",
    "\n",
    "import math\n",
    "\n",
    "# utility function\n",
    "def u(x):\n",
    "    '''Returns the utility of a bundle'''\n",
    "    return @@@\n",
    "\n",
    "# optimization routine\n",
    "def optim(budget,util,market):\n",
    "    '''Returns the optimal combination of goods at the market, given the budget'''\n",
    "    nn = @@@ #heuristic for the maximum quantity to check\n",
    "    # loop over all combination of three bundles to find max utility\n",
    "    m = -float('inf') #initialize with negative infinity\n",
    "    for i in range(nn):\n",
    "        for j in range(nn):\n",
    "            for k in range(nn):\n",
    "                bnd = @@@  # combination of so many of each of the three bundled goods\n",
    "                u = util(@@@)\n",
    "                if bnd.price <= budget and m<u:\n",
    "                    # found new maximum which is within the budget\n",
    "                    m = @@@  # remember the new max utility\n",
    "                    x = @@@  # remember the combination of bundle goods where max is attained\n",
    "    return x #return the optimal combination of goods\n",
    "\n",
    "def report(budget,util,x,market):\n",
    "    '''Makes nice readable output'''\n",
    "    @@@\n",
    "\n",
    "# main program\n",
    "for budget in [@@@]:\n",
    "    x=optim(budget,u,market)\n",
    "    report(budget,u,x,market)"
   ]
  },
  {
   "cell_type": "code",
   "execution_count": 8,
   "metadata": {
    "hide-output": false
   },
   "outputs": [
    {
     "name": "stdout",
     "output_type": "stream",
     "text": [
      "----------------------------------------\n",
      "Optimal bundle for budget 100.00 is\n",
      "Bundle object [4, 25, 2, 26, 12, 12, 10] with price 97.80\n",
      "Optimal allocation is [2, 5, 0]\n",
      "Optimal utility level is 42.195\n",
      "----------------------------------------\n",
      "Optimal bundle for budget 200.00 is\n",
      "Bundle object [7, 50, 4, 51, 23, 28, 24] with price 197.82\n",
      "Optimal allocation is [3, 10, 1]\n",
      "Optimal utility level is 81.769\n",
      "----------------------------------------\n",
      "Optimal bundle for budget 300.00 is\n",
      "Bundle object [10, 80, 5, 79, 37, 37, 32] with price 298.26\n",
      "Optimal allocation is [5, 16, 0]\n",
      "Optimal utility level is 123.530\n"
     ]
    }
   ],
   "source": [
    "# Available bundle goods\n",
    "a=bundle_good([2,0,1,3,1,1,0],10.50)\n",
    "b=bundle_good([0,5,0,4,2,2,2],15.36)\n",
    "c=bundle_good([1,0,1,2,0,5,4],12.72)\n",
    "market=[a,b,c]\n",
    "\n",
    "import math\n",
    "\n",
    "# utility function\n",
    "def u(x):\n",
    "    '''Returns the utility of a bundle'''\n",
    "    return math.log(x[0]+1) + (x[1]**0.4+0.5*x[2]**0.4)**2.5 - 0.5*math.log(x[3]+1) - 0.2*(x[4]*x[5])**0.2 + 2*math.log(x[6]+1)\n",
    "\n",
    "# optimization routine\n",
    "def optim(budget,util,market):\n",
    "    '''Returns the optimal combination of goods at the market given budget'''\n",
    "    nn=budget//10+1 #heuristic for how many points to check\n",
    "    # loop over all combination of three bundles to find max utility\n",
    "    m=-float('inf')\n",
    "    for i in range(nn):\n",
    "        for j in range(nn):\n",
    "            for k in range(nn):\n",
    "                bnd=market[0]*i + market[1]*j + market[2]*k\n",
    "                u=util(bnd.quantities)\n",
    "                if bnd.price <= budget and m<u:\n",
    "                    m=u\n",
    "                    x=[i,j,k]\n",
    "    return x\n",
    "\n",
    "def report(budget,util,x,market):\n",
    "    '''Makes nice output'''\n",
    "    bundle=market[0]*x[0] + market[1]*x[1] + market[2]*x[2]\n",
    "    maxu=util(bundle.quantities)\n",
    "    print('-'*40)\n",
    "    print('Optimal bundle for budget %1.2f is' % budget)\n",
    "    print(bundle)\n",
    "    print('Optimal allocation is %r' % x)\n",
    "    print('Optimal utility level is %1.3f' % maxu)\n",
    "\n",
    "# main program\n",
    "for budget in [100,200,300]:\n",
    "    x=optim(budget,u,market)\n",
    "    report(budget,u,x,market)"
   ]
  },
  {
   "cell_type": "markdown",
   "metadata": {},
   "source": [
    "## Sales tax\n",
    "\n",
    "Imagine the newly introduced sales tax raised all prices by 15%.\n",
    "Recompute the optimal choices in previous question.\n",
    "\n",
    "Do the optimal choices change, and how?"
   ]
  },
  {
   "cell_type": "code",
   "execution_count": null,
   "metadata": {
    "hide-output": false
   },
   "outputs": [],
   "source": [
    "# Write your code here"
   ]
  },
  {
   "cell_type": "code",
   "execution_count": 5,
   "metadata": {
    "hide-output": false
   },
   "outputs": [
    {
     "name": "stdout",
     "output_type": "stream",
     "text": [
      "----------------------------------------\n",
      "Optimal bundle for budget 100.00 is\n",
      "Bundle object [2, 20, 2, 20, 8, 18, 16] with price 99.91\n",
      "Optimal allocation is [0, 4, 2]\n",
      "Optimal utility level is 36.189\n",
      "----------------------------------------\n",
      "Optimal bundle for budget 200.00 is\n",
      "Bundle object [5, 45, 3, 44, 20, 25, 22] with price 197.75\n",
      "Optimal allocation is [2, 9, 1]\n",
      "Optimal utility level is 71.991\n",
      "----------------------------------------\n",
      "Optimal bundle for budget 300.00 is\n",
      "Bundle object [7, 70, 4, 67, 31, 36, 32] with price 298.15\n",
      "Optimal allocation is [3, 14, 1]\n",
      "Optimal utility level is 107.407\n"
     ]
    }
   ],
   "source": [
    "# increase sales tax\n",
    "a1=a+a.price*.15\n",
    "b1=b+b.price*.15\n",
    "c1=c+c.price*.15\n",
    "market=[a1,b1,c1]\n",
    "\n",
    "# main program\n",
    "for budget in [100,200,300]:\n",
    "    x=optim(budget,u,market)\n",
    "    report(budget,u,x,market)"
   ]
  },
  {
   "cell_type": "markdown",
   "metadata": {},
   "source": [
    "## Sale for one good\n",
    "\n",
    "Imagine the sale for bundle good **c** lowers its price by 20%. Recompute\n",
    "the optimal choices in previous question.\n",
    "\n",
    "Do the optimal choices change, and how?"
   ]
  },
  {
   "cell_type": "code",
   "execution_count": null,
   "metadata": {
    "hide-output": false
   },
   "outputs": [],
   "source": [
    "# Write your code here"
   ]
  },
  {
   "cell_type": "code",
   "execution_count": 6,
   "metadata": {
    "hide-output": false
   },
   "outputs": [
    {
     "name": "stdout",
     "output_type": "stream",
     "text": [
      "----------------------------------------\n",
      "Optimal bundle for budget 100.00 is\n",
      "Bundle object [2, 25, 2, 24, 10, 20, 18] with price 97.15\n",
      "Optimal allocation is [0, 5, 2]\n",
      "Optimal utility level is 42.779\n",
      "----------------------------------------\n",
      "Optimal bundle for budget 200.00 is\n",
      "Bundle object [3, 55, 3, 50, 22, 37, 34] with price 199.49\n",
      "Optimal allocation is [0, 11, 3]\n",
      "Optimal utility level is 84.824\n",
      "----------------------------------------\n",
      "Optimal bundle for budget 300.00 is\n",
      "Bundle object [5, 80, 5, 74, 32, 57, 52] with price 296.64\n",
      "Optimal allocation is [0, 16, 5]\n",
      "Optimal utility level is 123.854\n"
     ]
    }
   ],
   "source": [
    "# price reduction\n",
    "c2=c-c.price*.20\n",
    "market=[a,b,c2]\n",
    "\n",
    "# main program\n",
    "for budget in [100,200,300]:\n",
    "    x=optim(budget,u,market)\n",
    "    report(budget,u,x,market)"
   ]
  },
  {
   "cell_type": "code",
   "execution_count": null,
   "metadata": {},
   "outputs": [],
   "source": []
  }
 ],
 "metadata": {
  "date": 1597978344.4603038,
  "filename": "exercise03.rst",
  "kernelspec": {
   "display_name": "Python 3",
   "language": "python",
   "name": "python3"
  },
  "language_info": {
   "codemirror_mode": {
    "name": "ipython",
    "version": 3
   },
   "file_extension": ".py",
   "mimetype": "text/x-python",
   "name": "python",
   "nbconvert_exporter": "python",
   "pygments_lexer": "ipython3",
   "version": "3.7.6"
  },
  "title": "Weekly exercise 3: Optimal choice in the bungle good market"
 },
 "nbformat": 4,
 "nbformat_minor": 4
}
